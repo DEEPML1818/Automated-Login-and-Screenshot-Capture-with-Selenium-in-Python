{
 "cells": [
  {
   "cell_type": "code",
   "execution_count": null,
   "metadata": {},
   "outputs": [],
   "source": [
    "from selenium import webdriver\n",
    "\n",
    "from selenium.webdriver.common.by import By\n",
    "\n",
    "from selenium.webdriver.support.ui import WebDriverWait\n",
    "\n",
    "from selenium.webdriver.support import expected_conditions as EC\n",
    "\n",
    "class LoginPage:\n",
    "    def __init__(self, driver):\n",
    "        self.driver = driver\n",
    "\n",
    "        self.username_locator = (By.ID, 'username-field')\n",
    "\n",
    "        self.password_locator = (By.ID, 'password-field')\n",
    "\n",
    "        self.login_button_locator = (By.ID, 'login-form-submit')\n",
    "        \n",
    "        self.error_msg_locator = (By.ID, 'login-error-msg')\n",
    "\n",
    "\n",
    "    def login(self, username, password):\n",
    "        self.driver.find_element(*self.username_locator).send_keys(username)\n",
    "        self.driver.find_element(*self.password_locator).send_keys(password)\n",
    "        self.driver.find_element(*self.login_button_locator).click()\n",
    "\n",
    "# Set up the WebDriver\n",
    "driver = webdriver.Chrome()\n",
    "driver.get('http://127.0.0.1:5500/login-page.html')  # Replace with the actual login page URL\n",
    "\n",
    "# Create an instance of the LoginPage class\n",
    "login_page = LoginPage(driver)\n",
    "\n",
    "# Login with valid credentials\n",
    "login_page.login('your_username', 'your_password')  # Replace with actual credentials\n",
    "\n",
    "# Explicitly wait for the login error message\n",
    "error_msg = WebDriverWait(driver, 10).until(\n",
    "    EC.presence_of_element_located(login_page.error_msg_locator)\n",
    ")\n",
    "\n",
    "# Check for login error\n",
    "if \"Invalid username\" in error_msg.text:\n",
    "    print('Login failed. Invalid username and/or password.')\n",
    "else:\n",
    "    print('Login successful.')\n",
    "\n",
    "# Close the browser\n",
    "driver.quit()"
   ]
  }
 ],
 "metadata": {
  "language_info": {
   "name": "python"
  },
  "orig_nbformat": 4
 },
 "nbformat": 4,
 "nbformat_minor": 2
}
